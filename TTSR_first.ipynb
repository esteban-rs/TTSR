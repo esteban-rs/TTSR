{
 "cells": [
  {
   "cell_type": "code",
   "execution_count": 5,
   "metadata": {
    "executionInfo": {
     "elapsed": 2463,
     "status": "ok",
     "timestamp": 1624232778367,
     "user": {
      "displayName": "Esteban Reyes Saldaña",
      "photoUrl": "https://lh3.googleusercontent.com/a-/AOh14GjHe95AfWpW6Uov7arhWt52wp5fW8dVwWBjedP9zw=s64",
      "userId": "18048816362619501755"
     },
     "user_tz": 300
    },
    "id": "xcBsl1ORXoL5"
   },
   "outputs": [],
   "source": [
    "from utils import mkExpDir\n",
    "from dataset import dataloader\n",
    "from model import TTSR\n",
    "from loss.loss import get_loss_dict\n",
    "from trainer import Trainer\n",
    "\n",
    "import os\n",
    "import torch\n",
    "import torch.nn as nn\n",
    "import warnings\n",
    "import glob\n",
    "import time\n",
    "\n",
    "warnings.filterwarnings('ignore')"
   ]
  },
  {
   "cell_type": "markdown",
   "metadata": {
    "id": "WJER8wYtYoYJ"
   },
   "source": [
    "# Args"
   ]
  },
  {
   "cell_type": "code",
   "execution_count": 6,
   "metadata": {
    "executionInfo": {
     "elapsed": 8,
     "status": "ok",
     "timestamp": 1624232778370,
     "user": {
      "displayName": "Esteban Reyes Saldaña",
      "photoUrl": "https://lh3.googleusercontent.com/a-/AOh14GjHe95AfWpW6Uov7arhWt52wp5fW8dVwWBjedP9zw=s64",
      "userId": "18048816362619501755"
     },
     "user_tz": 300
    },
    "id": "iWDn_UkOYutv"
   },
   "outputs": [],
   "source": [
    "from argparse import Namespace"
   ]
  },
  {
   "cell_type": "code",
   "execution_count": 7,
   "metadata": {
    "executionInfo": {
     "elapsed": 2,
     "status": "ok",
     "timestamp": 1624232778539,
     "user": {
      "displayName": "Esteban Reyes Saldaña",
      "photoUrl": "https://lh3.googleusercontent.com/a-/AOh14GjHe95AfWpW6Uov7arhWt52wp5fW8dVwWBjedP9zw=s64",
      "userId": "18048816362619501755"
     },
     "user_tz": 300
    },
    "id": "RYJrbZ54Y0xq"
   },
   "outputs": [],
   "source": [
    "args   = Namespace()"
   ]
  },
  {
   "cell_type": "code",
   "execution_count": 8,
   "metadata": {
    "executionInfo": {
     "elapsed": 129,
     "status": "ok",
     "timestamp": 1624232778667,
     "user": {
      "displayName": "Esteban Reyes Saldaña",
      "photoUrl": "https://lh3.googleusercontent.com/a-/AOh14GjHe95AfWpW6Uov7arhWt52wp5fW8dVwWBjedP9zw=s64",
      "userId": "18048816362619501755"
     },
     "user_tz": 300
    },
    "id": "9SL6UKA1ZBz4"
   },
   "outputs": [],
   "source": [
    "## log setting\n",
    "args.save_dir      = 'trial'\n",
    "args.reset         =  True\n",
    "args.log_file_name = 'TTSR.log'\n",
    "args.logger_name   = 'TTSR'\n",
    "## device setting\n",
    "args.cpu           = False\n",
    "args.num_gpu       = 1\n",
    "## dataset setting\n",
    "args.dataset       = 'CUFED'                      # Which dataset to train and test\n",
    "args.dataset_dir   = r'/home/esteban/Datasets/CUFED/' # Directory of dataset\n",
    "## dataloader setting\n",
    "args.num_workers   = 9                            # The number of workers when loading data"
   ]
  },
  {
   "cell_type": "code",
   "execution_count": 9,
   "metadata": {
    "executionInfo": {
     "elapsed": 5,
     "status": "ok",
     "timestamp": 1624232778667,
     "user": {
      "displayName": "Esteban Reyes Saldaña",
      "photoUrl": "https://lh3.googleusercontent.com/a-/AOh14GjHe95AfWpW6Uov7arhWt52wp5fW8dVwWBjedP9zw=s64",
      "userId": "18048816362619501755"
     },
     "user_tz": 300
    },
    "id": "B50_BEH7bSzP"
   },
   "outputs": [],
   "source": [
    "## model setting\n",
    "args.num_res_blocks = '16+16+8+4' # The number of residual blocks in each stage\n",
    "args.n_feats        = 64          # The number of channels in network\n",
    "args.res_scale      = 1.0         # Residual scale\n",
    "\n",
    "## loss setting\n",
    "args.GAN_type       = 'WGAN_GP'   # The type of GAN used in training\n",
    "args.GAN_k          = 2           # Training discriminator k times when training generator once\n",
    "args.tpl_use_S      = False       # Whether to multiply soft-attention map in transferal perceptual loss\n",
    "args.tpl_type       = 'l2'        # Which loss type to calculate gram matrix difference in transferal perceptual loss [l1 / l2]\n",
    "args.rec_w          = 1.0         # The weight of reconstruction loss\n",
    "args.per_w          = 1e-2        # The weight of perceptual loss\n",
    "args.tpl_w          = 1e-2        # The weight of transferal perceptual loss\n",
    "args.adv_w          = 1e-3        # The weight of adversarial loss\n",
    "\n",
    "## optimizer setting\n",
    "args.beta1          = 0.9         # The beta1 in Adam optimizer\n",
    "args.beta2          = 0.999       # The beta2 in Adam optimizer\n",
    "args.eps            = 1e-8        # The eps in Adam optimizer\n",
    "args.lr_rate        = 1e-4        # Learning rate\n",
    "args.lr_rate_dis    = 1e-4        # Learning rate of discriminator\n",
    "args.lr_rate_lte    = 1e-5        # Learning rate of LTE\n",
    "args.decay          = 999999      # Learning rate decay type\n",
    "args.gamma          = 0.5         # Learning rate decay factor for step decay"
   ]
  },
  {
   "cell_type": "code",
   "execution_count": 10,
   "metadata": {
    "executionInfo": {
     "elapsed": 5,
     "status": "ok",
     "timestamp": 1624232778667,
     "user": {
      "displayName": "Esteban Reyes Saldaña",
      "photoUrl": "https://lh3.googleusercontent.com/a-/AOh14GjHe95AfWpW6Uov7arhWt52wp5fW8dVwWBjedP9zw=s64",
      "userId": "18048816362619501755"
     },
     "user_tz": 300
    },
    "id": "3bDmiYyReHkg"
   },
   "outputs": [],
   "source": [
    "## training setting\n",
    "args.batch_size      = 9      # Training batch size\n",
    "args.train_crop_size = 40     # Training data crop size\n",
    "args.num_init_epochs = 2      # The number of init epochs which are trained with only reconstruction loss\n",
    "args.num_epochs      = 50      # The number of training epochs\n",
    "args.print_every     = 600      # Print period\n",
    "args.save_every      = 5 # Save period\n",
    "args.val_every       = 10 # Validation period"
   ]
  },
  {
   "cell_type": "code",
   "execution_count": 11,
   "metadata": {
    "executionInfo": {
     "elapsed": 6,
     "status": "ok",
     "timestamp": 1624232778668,
     "user": {
      "displayName": "Esteban Reyes Saldaña",
      "photoUrl": "https://lh3.googleusercontent.com/a-/AOh14GjHe95AfWpW6Uov7arhWt52wp5fW8dVwWBjedP9zw=s64",
      "userId": "18048816362619501755"
     },
     "user_tz": 300
    },
    "id": "W-nvM6Epe9sZ"
   },
   "outputs": [],
   "source": [
    "## evaluate / test / finetune setting\n",
    "args.eval              = True                     # Evaluation mode\n",
    "args.eval_save_results = False                     # Save each image during evaluation\n",
    "args.model_path        = None                      # The path of model to evaluation\n",
    "args.test              = False                     # Test mode\n",
    "args.lr_path           = './test/demo/lr/lr.png'   # The path of input lr image when testing\n",
    "args.ref_path          = './test/demo/ref/ref.png' # The path of ref image when testing"
   ]
  },
  {
   "cell_type": "markdown",
   "metadata": {
    "id": "Y6UvCCbuo5lM"
   },
   "source": [
    "# Main\n",
    "\n"
   ]
  },
  {
   "cell_type": "code",
   "execution_count": 12,
   "metadata": {
    "executionInfo": {
     "elapsed": 3,
     "status": "ok",
     "timestamp": 1624232782014,
     "user": {
      "displayName": "Esteban Reyes Saldaña",
      "photoUrl": "https://lh3.googleusercontent.com/a-/AOh14GjHe95AfWpW6Uov7arhWt52wp5fW8dVwWBjedP9zw=s64",
      "userId": "18048816362619501755"
     },
     "user_tz": 300
    },
    "id": "BzR5SNFAXxlJ"
   },
   "outputs": [],
   "source": [
    "# make save_dir\n",
    "_logger     = mkExpDir(args)"
   ]
  },
  {
   "cell_type": "code",
   "execution_count": 13,
   "metadata": {
    "executionInfo": {
     "elapsed": 383,
     "status": "ok",
     "timestamp": 1624232782395,
     "user": {
      "displayName": "Esteban Reyes Saldaña",
      "photoUrl": "https://lh3.googleusercontent.com/a-/AOh14GjHe95AfWpW6Uov7arhWt52wp5fW8dVwWBjedP9zw=s64",
      "userId": "18048816362619501755"
     },
     "user_tz": 300
    },
    "id": "bbdh-pAYqS5a"
   },
   "outputs": [],
   "source": [
    "# dataloader of training set and testing set\n",
    "_dataloader = dataloader.get_dataloader(args) if (not args.test) else None"
   ]
  },
  {
   "cell_type": "code",
   "execution_count": 14,
   "metadata": {},
   "outputs": [
    {
     "data": {
      "text/plain": [
       "(11871, 126)"
      ]
     },
     "execution_count": 14,
     "metadata": {},
     "output_type": "execute_result"
    }
   ],
   "source": [
    "len(_dataloader['train'].dataset.input_list), len(_dataloader['test']['1'])"
   ]
  },
  {
   "cell_type": "code",
   "execution_count": 17,
   "metadata": {
    "executionInfo": {
     "elapsed": 7,
     "status": "ok",
     "timestamp": 1624232782398,
     "user": {
      "displayName": "Esteban Reyes Saldaña",
      "photoUrl": "https://lh3.googleusercontent.com/a-/AOh14GjHe95AfWpW6Uov7arhWt52wp5fW8dVwWBjedP9zw=s64",
      "userId": "18048816362619501755"
     },
     "user_tz": 300
    },
    "id": "8xnkyHvCSmKp"
   },
   "outputs": [],
   "source": [
    "# device and model\n",
    "device = torch.device('cpu' if args.cpu else 'cuda')"
   ]
  },
  {
   "cell_type": "code",
   "execution_count": 18,
   "metadata": {
    "executionInfo": {
     "elapsed": 5858,
     "status": "ok",
     "timestamp": 1624232788252,
     "user": {
      "displayName": "Esteban Reyes Saldaña",
      "photoUrl": "https://lh3.googleusercontent.com/a-/AOh14GjHe95AfWpW6Uov7arhWt52wp5fW8dVwWBjedP9zw=s64",
      "userId": "18048816362619501755"
     },
     "user_tz": 300
    },
    "id": "2dgWKlGkAXpe"
   },
   "outputs": [],
   "source": [
    "_model = TTSR.TTSR(args).to(device)\n",
    "if ((not args.cpu) and (args.num_gpu > 1)):\n",
    "  _model = nn.DataParallel(_model, list(range(args.num_gpu)))"
   ]
  },
  {
   "cell_type": "code",
   "execution_count": 19,
   "metadata": {},
   "outputs": [
    {
     "data": {
      "text/plain": [
       "==========================================================================================\n",
       "Layer (type:depth-idx)                   Output Shape              Param #\n",
       "==========================================================================================\n",
       "TTSR                                     [1, 3, 160, 160]          555,340\n",
       "├─LTE: 1-1                               [1, 64, 160, 160]         --\n",
       "│    └─MeanShift: 2-1                    [1, 3, 160, 160]          (12)\n",
       "│    └─Sequential: 2-2                   [1, 64, 160, 160]         --\n",
       "│    │    └─Conv2d: 3-1                  [1, 64, 160, 160]         1,792\n",
       "│    │    └─ReLU: 3-2                    [1, 64, 160, 160]         --\n",
       "│    └─Sequential: 2-3                   [1, 128, 80, 80]          --\n",
       "│    │    └─Conv2d: 3-3                  [1, 64, 160, 160]         36,928\n",
       "│    │    └─ReLU: 3-4                    [1, 64, 160, 160]         --\n",
       "│    │    └─MaxPool2d: 3-5               [1, 64, 80, 80]           --\n",
       "│    │    └─Conv2d: 3-6                  [1, 128, 80, 80]          73,856\n",
       "│    │    └─ReLU: 3-7                    [1, 128, 80, 80]          --\n",
       "│    └─Sequential: 2-4                   [1, 256, 40, 40]          --\n",
       "│    │    └─Conv2d: 3-8                  [1, 128, 80, 80]          147,584\n",
       "│    │    └─ReLU: 3-9                    [1, 128, 80, 80]          --\n",
       "│    │    └─MaxPool2d: 3-10              [1, 128, 40, 40]          --\n",
       "│    │    └─Conv2d: 3-11                 [1, 256, 40, 40]          295,168\n",
       "│    │    └─ReLU: 3-12                   [1, 256, 40, 40]          --\n",
       "├─LTE: 1-2                               [1, 64, 160, 160]         (recursive)\n",
       "│    └─MeanShift: 2-5                    [1, 3, 160, 160]          (recursive)\n",
       "│    └─Sequential: 2-6                   [1, 64, 160, 160]         (recursive)\n",
       "│    │    └─Conv2d: 3-13                 [1, 64, 160, 160]         (recursive)\n",
       "│    │    └─ReLU: 3-14                   [1, 64, 160, 160]         --\n",
       "│    └─Sequential: 2-7                   [1, 128, 80, 80]          (recursive)\n",
       "│    │    └─Conv2d: 3-15                 [1, 64, 160, 160]         (recursive)\n",
       "│    │    └─ReLU: 3-16                   [1, 64, 160, 160]         --\n",
       "│    │    └─MaxPool2d: 3-17              [1, 64, 80, 80]           --\n",
       "│    │    └─Conv2d: 3-18                 [1, 128, 80, 80]          (recursive)\n",
       "│    │    └─ReLU: 3-19                   [1, 128, 80, 80]          --\n",
       "│    └─Sequential: 2-8                   [1, 256, 40, 40]          (recursive)\n",
       "│    │    └─Conv2d: 3-20                 [1, 128, 80, 80]          (recursive)\n",
       "│    │    └─ReLU: 3-21                   [1, 128, 80, 80]          --\n",
       "│    │    └─MaxPool2d: 3-22              [1, 128, 40, 40]          --\n",
       "│    │    └─Conv2d: 3-23                 [1, 256, 40, 40]          (recursive)\n",
       "│    │    └─ReLU: 3-24                   [1, 256, 40, 40]          --\n",
       "├─LTE: 1-3                               [1, 64, 160, 160]         (recursive)\n",
       "│    └─MeanShift: 2-9                    [1, 3, 160, 160]          (recursive)\n",
       "│    └─Sequential: 2-10                  [1, 64, 160, 160]         (recursive)\n",
       "│    │    └─Conv2d: 3-25                 [1, 64, 160, 160]         (recursive)\n",
       "│    │    └─ReLU: 3-26                   [1, 64, 160, 160]         --\n",
       "│    └─Sequential: 2-11                  [1, 128, 80, 80]          (recursive)\n",
       "│    │    └─Conv2d: 3-27                 [1, 64, 160, 160]         (recursive)\n",
       "│    │    └─ReLU: 3-28                   [1, 64, 160, 160]         --\n",
       "│    │    └─MaxPool2d: 3-29              [1, 64, 80, 80]           --\n",
       "│    │    └─Conv2d: 3-30                 [1, 128, 80, 80]          (recursive)\n",
       "│    │    └─ReLU: 3-31                   [1, 128, 80, 80]          --\n",
       "│    └─Sequential: 2-12                  [1, 256, 40, 40]          (recursive)\n",
       "│    │    └─Conv2d: 3-32                 [1, 128, 80, 80]          (recursive)\n",
       "│    │    └─ReLU: 3-33                   [1, 128, 80, 80]          --\n",
       "│    │    └─MaxPool2d: 3-34              [1, 128, 40, 40]          --\n",
       "│    │    └─Conv2d: 3-35                 [1, 256, 40, 40]          (recursive)\n",
       "│    │    └─ReLU: 3-36                   [1, 256, 40, 40]          --\n",
       "├─SearchTransfer: 1-4                    [1, 1, 40, 40]            --\n",
       "├─MainNet: 1-5                           [1, 3, 160, 160]          --\n",
       "│    └─SFE: 2-13                         [1, 64, 40, 40]           --\n",
       "│    │    └─Conv2d: 3-37                 [1, 64, 40, 40]           1,792\n",
       "│    │    └─ModuleList: 3-38             --                        1,181,696\n",
       "│    │    └─Conv2d: 3-39                 [1, 64, 40, 40]           36,928\n",
       "│    └─Conv2d: 2-14                      [1, 64, 40, 40]           184,384\n",
       "│    └─ModuleList: 2-15                  --                        --\n",
       "│    │    └─ResBlock: 3-40               [1, 64, 40, 40]           73,856\n",
       "│    │    └─ResBlock: 3-41               [1, 64, 40, 40]           73,856\n",
       "│    │    └─ResBlock: 3-42               [1, 64, 40, 40]           73,856\n",
       "│    │    └─ResBlock: 3-43               [1, 64, 40, 40]           73,856\n",
       "│    │    └─ResBlock: 3-44               [1, 64, 40, 40]           73,856\n",
       "│    │    └─ResBlock: 3-45               [1, 64, 40, 40]           73,856\n",
       "│    │    └─ResBlock: 3-46               [1, 64, 40, 40]           73,856\n",
       "│    │    └─ResBlock: 3-47               [1, 64, 40, 40]           73,856\n",
       "│    │    └─ResBlock: 3-48               [1, 64, 40, 40]           73,856\n",
       "│    │    └─ResBlock: 3-49               [1, 64, 40, 40]           73,856\n",
       "│    │    └─ResBlock: 3-50               [1, 64, 40, 40]           73,856\n",
       "│    │    └─ResBlock: 3-51               [1, 64, 40, 40]           73,856\n",
       "│    │    └─ResBlock: 3-52               [1, 64, 40, 40]           73,856\n",
       "│    │    └─ResBlock: 3-53               [1, 64, 40, 40]           73,856\n",
       "│    │    └─ResBlock: 3-54               [1, 64, 40, 40]           73,856\n",
       "│    │    └─ResBlock: 3-55               [1, 64, 40, 40]           73,856\n",
       "│    └─Conv2d: 2-16                      [1, 64, 40, 40]           36,928\n",
       "│    └─Conv2d: 2-17                      [1, 256, 40, 40]          147,712\n",
       "│    └─PixelShuffle: 2-18                [1, 64, 80, 80]           --\n",
       "│    └─Conv2d: 2-19                      [1, 64, 80, 80]           110,656\n",
       "│    └─CSFI2: 2-20                       [1, 64, 40, 40]           --\n",
       "│    │    └─Conv2d: 3-56                 [1, 64, 80, 80]           4,160\n",
       "│    │    └─Conv2d: 3-57                 [1, 64, 40, 40]           36,928\n",
       "│    │    └─Conv2d: 3-58                 [1, 64, 40, 40]           73,792\n",
       "│    │    └─Conv2d: 3-59                 [1, 64, 80, 80]           73,792\n",
       "│    └─ModuleList: 2-35                  --                        (recursive)\n",
       "│    │    └─ResBlock: 3-60               [1, 64, 40, 40]           73,856\n",
       "│    └─ModuleList: 2-36                  --                        (recursive)\n",
       "│    │    └─ResBlock: 3-61               [1, 64, 80, 80]           73,856\n",
       "│    └─ModuleList: 2-35                  --                        (recursive)\n",
       "│    │    └─ResBlock: 3-62               [1, 64, 40, 40]           73,856\n",
       "│    └─ModuleList: 2-36                  --                        (recursive)\n",
       "│    │    └─ResBlock: 3-63               [1, 64, 80, 80]           73,856\n",
       "│    └─ModuleList: 2-35                  --                        (recursive)\n",
       "│    │    └─ResBlock: 3-64               [1, 64, 40, 40]           73,856\n",
       "│    └─ModuleList: 2-36                  --                        (recursive)\n",
       "│    │    └─ResBlock: 3-65               [1, 64, 80, 80]           73,856\n",
       "│    └─ModuleList: 2-35                  --                        (recursive)\n",
       "│    │    └─ResBlock: 3-66               [1, 64, 40, 40]           73,856\n",
       "│    └─ModuleList: 2-36                  --                        (recursive)\n",
       "│    │    └─ResBlock: 3-67               [1, 64, 80, 80]           73,856\n",
       "│    └─ModuleList: 2-35                  --                        (recursive)\n",
       "│    │    └─ResBlock: 3-68               [1, 64, 40, 40]           73,856\n",
       "│    └─ModuleList: 2-36                  --                        (recursive)\n",
       "│    │    └─ResBlock: 3-69               [1, 64, 80, 80]           73,856\n",
       "│    └─ModuleList: 2-35                  --                        (recursive)\n",
       "│    │    └─ResBlock: 3-70               [1, 64, 40, 40]           73,856\n",
       "│    └─ModuleList: 2-36                  --                        (recursive)\n",
       "│    │    └─ResBlock: 3-71               [1, 64, 80, 80]           73,856\n",
       "│    └─ModuleList: 2-35                  --                        (recursive)\n",
       "│    │    └─ResBlock: 3-72               [1, 64, 40, 40]           73,856\n",
       "│    └─ModuleList: 2-36                  --                        (recursive)\n",
       "│    │    └─ResBlock: 3-73               [1, 64, 80, 80]           73,856\n",
       "│    └─ModuleList: 2-35                  --                        (recursive)\n",
       "│    │    └─ResBlock: 3-74               [1, 64, 40, 40]           73,856\n",
       "│    └─ModuleList: 2-36                  --                        (recursive)\n",
       "│    │    └─ResBlock: 3-75               [1, 64, 80, 80]           73,856\n",
       "│    └─Conv2d: 2-37                      [1, 64, 40, 40]           36,928\n",
       "│    └─Conv2d: 2-38                      [1, 64, 80, 80]           36,928\n",
       "│    └─Conv2d: 2-39                      [1, 256, 80, 80]          147,712\n",
       "│    └─PixelShuffle: 2-40                [1, 64, 160, 160]         --\n",
       "│    └─Conv2d: 2-41                      [1, 64, 160, 160]         73,792\n",
       "│    └─CSFI3: 2-42                       [1, 64, 40, 40]           --\n",
       "│    │    └─Conv2d: 3-76                 [1, 64, 80, 80]           4,160\n",
       "│    │    └─Conv2d: 3-77                 [1, 64, 160, 160]         4,160\n",
       "│    │    └─Conv2d: 3-78                 [1, 64, 40, 40]           36,928\n",
       "│    │    └─Conv2d: 3-79                 [1, 64, 160, 160]         4,160\n",
       "│    │    └─Conv2d: 3-80                 [1, 64, 80, 80]           36,928\n",
       "│    │    └─Conv2d: 3-81                 [1, 64, 40, 40]           36,928\n",
       "│    │    └─Conv2d: 3-82                 [1, 64, 80, 80]           36,928\n",
       "│    │    └─Conv2d: 3-83                 [1, 64, 40, 40]           110,656\n",
       "│    │    └─Conv2d: 3-84                 [1, 64, 80, 80]           110,656\n",
       "│    │    └─Conv2d: 3-85                 [1, 64, 160, 160]         110,656\n",
       "│    └─ModuleList: 2-52                  --                        (recursive)\n",
       "│    │    └─ResBlock: 3-86               [1, 64, 40, 40]           73,856\n",
       "│    └─ModuleList: 2-53                  --                        (recursive)\n",
       "│    │    └─ResBlock: 3-87               [1, 64, 80, 80]           73,856\n",
       "│    └─ModuleList: 2-54                  --                        (recursive)\n",
       "│    │    └─ResBlock: 3-88               [1, 64, 160, 160]         73,856\n",
       "│    └─ModuleList: 2-52                  --                        (recursive)\n",
       "│    │    └─ResBlock: 3-89               [1, 64, 40, 40]           73,856\n",
       "│    └─ModuleList: 2-53                  --                        (recursive)\n",
       "│    │    └─ResBlock: 3-90               [1, 64, 80, 80]           73,856\n",
       "│    └─ModuleList: 2-54                  --                        (recursive)\n",
       "│    │    └─ResBlock: 3-91               [1, 64, 160, 160]         73,856\n",
       "│    └─ModuleList: 2-52                  --                        (recursive)\n",
       "│    │    └─ResBlock: 3-92               [1, 64, 40, 40]           73,856\n",
       "│    └─ModuleList: 2-53                  --                        (recursive)\n",
       "│    │    └─ResBlock: 3-93               [1, 64, 80, 80]           73,856\n",
       "│    └─ModuleList: 2-54                  --                        (recursive)\n",
       "│    │    └─ResBlock: 3-94               [1, 64, 160, 160]         73,856\n",
       "│    └─ModuleList: 2-52                  --                        (recursive)\n",
       "│    │    └─ResBlock: 3-95               [1, 64, 40, 40]           73,856\n",
       "│    └─ModuleList: 2-53                  --                        (recursive)\n",
       "│    │    └─ResBlock: 3-96               [1, 64, 80, 80]           73,856\n",
       "│    └─ModuleList: 2-54                  --                        (recursive)\n",
       "│    │    └─ResBlock: 3-97               [1, 64, 160, 160]         73,856\n",
       "│    └─Conv2d: 2-55                      [1, 64, 40, 40]           36,928\n",
       "│    └─Conv2d: 2-56                      [1, 64, 80, 80]           36,928\n",
       "│    └─Conv2d: 2-57                      [1, 64, 160, 160]         36,928\n",
       "│    └─MergeTail: 2-58                   [1, 3, 160, 160]          --\n",
       "│    │    └─Conv2d: 3-98                 [1, 64, 160, 160]         4,160\n",
       "│    │    └─Conv2d: 3-99                 [1, 64, 160, 160]         4,160\n",
       "│    │    └─Conv2d: 3-100                [1, 64, 160, 160]         110,656\n",
       "│    │    └─Conv2d: 3-101                [1, 32, 160, 160]         18,464\n",
       "│    │    └─Conv2d: 3-102                [1, 3, 160, 160]          99\n",
       "==========================================================================================\n",
       "Total params: 7,284,955\n",
       "Trainable params: 6,729,603\n",
       "Non-trainable params: 555,352\n",
       "Total mult-adds (G): 41.55\n",
       "==========================================================================================\n",
       "Input size (MB): 0.94\n",
       "Forward/backward pass size (MB): 552.14\n",
       "Params size (MB): 26.92\n",
       "Estimated Total Size (MB): 580.00\n",
       "=========================================================================================="
      ]
     },
     "execution_count": 19,
     "metadata": {},
     "output_type": "execute_result"
    }
   ],
   "source": [
    "from torchinfo import summary\n",
    "summary(_model, [[1, 3, 40, 40], [1, 3, 160, 160], [1, 3, 160, 160], [1, 3, 160, 160]] )"
   ]
  },
  {
   "cell_type": "code",
   "execution_count": 20,
   "metadata": {
    "executionInfo": {
     "elapsed": 1535,
     "status": "ok",
     "timestamp": 1624232789767,
     "user": {
      "displayName": "Esteban Reyes Saldaña",
      "photoUrl": "https://lh3.googleusercontent.com/a-/AOh14GjHe95AfWpW6Uov7arhWt52wp5fW8dVwWBjedP9zw=s64",
      "userId": "18048816362619501755"
     },
     "user_tz": 300
    },
    "id": "Qh0fxE3-TgOA"
   },
   "outputs": [],
   "source": [
    "# loss\n",
    "_loss_all = get_loss_dict(args, _logger)\n",
    "# trainer\n",
    "t = Trainer(args, _logger, _dataloader, _model, _loss_all)"
   ]
  },
  {
   "cell_type": "code",
   "execution_count": 21,
   "metadata": {},
   "outputs": [
    {
     "name": "stderr",
     "output_type": "stream",
     "text": [
      "[2023-05-22 13:05:10,978] - [trainer.py file line:48] - INFO: load_model_path: ./TTSR.pt\n",
      "[2023-05-22 13:05:11,037] - [trainer.py file line:121] - INFO: Epoch -1 evaluation process...\n",
      "[2023-05-22 13:05:30,223] - [trainer.py file line:150] - INFO: Ref  PSNR (now): 25.402 \t SSIM (now): 0.7600\n",
      "[2023-05-22 13:05:30,224] - [trainer.py file line:157] - INFO: Ref  PSNR (max): 25.402 (-1) \t SSIM (max): 0.7600 (-1)\n",
      "[2023-05-22 13:05:30,225] - [trainer.py file line:160] - INFO: Evaluation over.\n"
     ]
    }
   ],
   "source": [
    "t.load('./TTSR.pt')\n",
    "t.evaluate(current_epoch = -1)"
   ]
  },
  {
   "cell_type": "code",
   "execution_count": 23,
   "metadata": {},
   "outputs": [
    {
     "name": "stderr",
     "output_type": "stream",
     "text": [
      "[2023-05-22 13:06:32,225] - [trainer.py file line:48] - INFO: load_model_path: ./TTSR-rec.pt\n",
      "[2023-05-22 13:06:32,292] - [trainer.py file line:121] - INFO: Epoch -1 evaluation process...\n",
      "[2023-05-22 13:06:51,596] - [trainer.py file line:150] - INFO: Ref  PSNR (now): 26.991 \t SSIM (now): 0.8003\n",
      "[2023-05-22 13:06:51,597] - [trainer.py file line:157] - INFO: Ref  PSNR (max): 26.991 (-1) \t SSIM (max): 0.8003 (-1)\n",
      "[2023-05-22 13:06:51,598] - [trainer.py file line:160] - INFO: Evaluation over.\n"
     ]
    }
   ],
   "source": [
    "t.load('./TTSR-rec.pt')\n",
    "t.evaluate(current_epoch = -1)"
   ]
  },
  {
   "cell_type": "raw",
   "metadata": {
    "colab": {
     "base_uri": "https://localhost:8080/"
    },
    "id": "-7Ox76X1Xs3e",
    "outputId": "e309c6c4-584a-417e-8454-233a9fcdcf41"
   },
   "source": [
    "for epoch in range(1, args.num_init_epochs + 1):\n",
    "    start = time.time()\n",
    "    t.train(current_epoch = epoch, is_init = True)\n",
    "    print('Training time for epoch ',epoch, ': ', time.time() - start,'seconds.')\n",
    "for epoch in range(1, args.num_epochs + 1):\n",
    "    start = time.time()\n",
    "    t.train(current_epoch = epoch, is_init = False)\n",
    "    print('Training time for epoch ',epoch, ': ', time.time() - start,'seconds.')\n",
    "        \n",
    "    if (epoch % args.val_every == 0):\n",
    "        t.evaluate(current_epoch = epoch)"
   ]
  },
  {
   "cell_type": "markdown",
   "metadata": {},
   "source": [
    "# Test"
   ]
  },
  {
   "cell_type": "code",
   "execution_count": 74,
   "metadata": {},
   "outputs": [
    {
     "name": "stderr",
     "output_type": "stream",
     "text": [
      "[2022-01-28 10:10:40,403] - [trainer.py file line:53] - INFO: load_model_path: ./save_dir/model/model_00050.pt\n"
     ]
    }
   ],
   "source": [
    "args.model_path = './save_dir/model/model_00050.pt'                      # The path of model to evaluation\n",
    "t.load(args.model_path)"
   ]
  },
  {
   "cell_type": "markdown",
   "metadata": {},
   "source": [
    "# Plot Results"
   ]
  },
  {
   "cell_type": "code",
   "execution_count": 75,
   "metadata": {},
   "outputs": [],
   "source": [
    "def prepare(sample_batched):\n",
    "    print(sample_batched.keys())\n",
    "    for key in sample_batched.keys():\n",
    "        sample_batched[key] = sample_batched[key].to(device)\n",
    "    return sample_batched"
   ]
  },
  {
   "cell_type": "code",
   "execution_count": 76,
   "metadata": {},
   "outputs": [],
   "source": [
    "import matplotlib.pyplot as plt\n",
    "%matplotlib inline"
   ]
  },
  {
   "cell_type": "code",
   "execution_count": 77,
   "metadata": {},
   "outputs": [],
   "source": [
    "def plot_results(model = None, total_images = 5) :\n",
    "    i = 0\n",
    "    for sample_batched in _dataloader['test']['1'] :\n",
    "        sample_batched = prepare(sample_batched)\n",
    "        lr             = sample_batched['LR']\n",
    "        lr_sr          = sample_batched['LR_sr']\n",
    "        hr             = sample_batched['HR']\n",
    "        ref            = sample_batched['Ref']\n",
    "        ref_sr         = sample_batched['Ref_sr']\n",
    "        \n",
    "\n",
    "        t.model.eval()\n",
    "        with torch.no_grad():\n",
    "            sr, _, _, _, _ = t.model(lr = lr, lrsr = lr_sr, ref = ref, refsr = ref_sr)\n",
    "            sr_save = (sr+1.) * 127.5\n",
    "            \n",
    "            \n",
    "            lr = (lr+1) * 127.5\n",
    "            lr_sr = (lr_sr+1) * 127.5\n",
    "            hr  = (hr+1) * 127.5\n",
    "            ref  = (ref+1) * 127.5\n",
    "            ref_sr  = (ref_sr+1) * 127.5\n",
    "\n",
    "            \n",
    "            \n",
    "            sr_save_ = np.transpose(sr_save[0].squeeze().round().cpu().numpy(), (1, 2, 0)).astype(np.uint8)\n",
    "            lr_      = np.transpose(lr[0].squeeze().round().cpu().numpy(), (1, 2, 0)).astype(np.uint8)\n",
    "            lr_sr_   = np.transpose(lr_sr[0].squeeze().round().cpu().numpy(), (1, 2, 0)).astype(np.uint8)\n",
    "            hr_      = np.transpose(hr[0].squeeze().round().cpu().numpy(), (1, 2, 0)).astype(np.uint8)\n",
    "            ref_     = np.transpose(ref[0].squeeze().round().cpu().numpy(), (1, 2, 0)).astype(np.uint8)\n",
    "            ref_sr_  = np.transpose(ref_sr[0].squeeze().round().cpu().numpy(), (1, 2, 0)).astype(np.uint8)\n",
    "\n",
    "            # plot\n",
    "            names       = ['LR', 'LR_sr', 'TTSR', 'Ref', 'Ref_sr', 'Target']\n",
    "            num_classes = len(names)\n",
    "\n",
    "            fig, ax = plt.subplots(figsize = (20,10), nrows = 1, ncols = 6, sharex = True, sharey = True,)\n",
    "            fig.suptitle(args.model_path)\n",
    "            ax      = ax.flatten()\n",
    "\n",
    "            ax[0].imshow(lr_)\n",
    "            ax[0].set_xlabel(str(0) + ': '+ names[0])\n",
    "\n",
    "            ax[1].imshow(lr_sr_)\n",
    "            ax[1].set_xlabel(str(1) + ': '+ names[1])\n",
    "\n",
    "            ax[2].imshow(sr_save_)\n",
    "            ax[2].set_xlabel(str(2) + ': '+ names[2])\n",
    "            \n",
    "            ax[3].imshow(ref_)\n",
    "            ax[3].set_xlabel(str(3) + ': '+ names[3])\n",
    "            \n",
    "            ax[4].imshow(ref_sr_)\n",
    "            ax[4].set_xlabel(str(4) + ': '+ names[4])\n",
    "            \n",
    "            ax[5].imshow(hr_)\n",
    "            ax[5].set_xlabel(str(3) + ': '+ names[5])\n",
    "\n",
    "\n",
    "            ax[0].set_xticks([])\n",
    "            ax[0].set_yticks([])\n",
    "            plt.show()\n",
    "            \n",
    "            \n",
    "            plt.imsave( './test/' + str(i) + '_hr.png', hr_)\n",
    "            plt.imsave( './test/' + str(i) + '_ref.png', ref_)\n",
    "            plt.imsave( './test/' +  str(i) + '_ttsr.png',sr_save_)\n",
    "            \n",
    "            '''save_path = os.path.join(self.args.save_dir, 'save_results', args.model_path.split('/')[-1].split('.')[0] + '_' + os.path.basename(self.args.lr_path))\n",
    "            imsave(save_path, sr_save)\n",
    "            self.logger.info('output path: %s' %(save_path))'''\n",
    "        i += 1\n",
    "        if i == total_images - 1 : \n",
    "            return"
   ]
  }
 ],
 "metadata": {
  "accelerator": "GPU",
  "colab": {
   "authorship_tag": "ABX9TyO9SZ6/NGMG6+QoZ298iTeY",
   "collapsed_sections": [],
   "mount_file_id": "1xj4wDQl5i1p5lawH-YYITz55p79hvZlE",
   "name": "TTSR.ipynb",
   "provenance": []
  },
  "kernelspec": {
   "display_name": "torch",
   "language": "python",
   "name": "torch"
  },
  "language_info": {
   "codemirror_mode": {
    "name": "ipython",
    "version": 3
   },
   "file_extension": ".py",
   "mimetype": "text/x-python",
   "name": "python",
   "nbconvert_exporter": "python",
   "pygments_lexer": "ipython3",
   "version": "3.10.9"
  }
 },
 "nbformat": 4,
 "nbformat_minor": 4
}
